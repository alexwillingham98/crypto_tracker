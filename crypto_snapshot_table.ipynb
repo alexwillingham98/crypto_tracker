{
 "cells": [
  {
   "cell_type": "code",
   "execution_count": 0,
   "metadata": {
    "application/vnd.databricks.v1+cell": {
     "cellMetadata": {
      "byteLimit": 2048000,
      "rowLimit": 10000
     },
     "inputWidgets": {},
     "nuid": "69da55be-2e7f-42f4-b4c0-99af0f249dd7",
     "showTitle": false,
     "tableResultSettingsMap": {},
     "title": ""
    }
   },
   "outputs": [],
   "source": [
    "%pip install -r ./requirements.txt\n"
   ]
  },
  {
   "cell_type": "code",
   "execution_count": 0,
   "metadata": {
    "application/vnd.databricks.v1+cell": {
     "cellMetadata": {
      "byteLimit": 2048000,
      "rowLimit": 10000
     },
     "inputWidgets": {},
     "nuid": "070884d5-a578-4990-bc05-9fb73ee6fa7f",
     "showTitle": false,
     "tableResultSettingsMap": {},
     "title": ""
    }
   },
   "outputs": [],
   "source": [
    "from pyspark.sql.types import StructType, StructField, StringType, DoubleType, LongType\n",
    "\n",
    "schema = StructType([\n",
    "    StructField(\"id\", StringType(), True),\n",
    "    StructField(\"symbol\", StringType(), True),\n",
    "    StructField(\"name\", StringType(), True),\n",
    "    StructField(\"image\", StringType(), True),\n",
    "    StructField(\"current_price\", DoubleType(), True),\n",
    "    StructField(\"market_cap\", LongType(), True),\n",
    "    StructField(\"market_cap_rank\", DoubleType(), True),\n",
    "    StructField(\"fully_diluted_valuation\", LongType(), True),\n",
    "    StructField(\"total_volume\", DoubleType(), True),\n",
    "    StructField(\"high_24h\", DoubleType(), True),\n",
    "    StructField(\"low_24h\", DoubleType(), True),\n",
    "    StructField(\"price_change_24h\", DoubleType(), True),\n",
    "    StructField(\"price_change_percentage_24h\", DoubleType(), True),\n",
    "    StructField(\"circulating_supply\", DoubleType(), True),\n",
    "    StructField(\"total_supply\", DoubleType(), True),\n",
    "    StructField(\"max_supply\", DoubleType(), True),\n",
    "    StructField(\"ath\", DoubleType(), True),\n",
    "    StructField(\"ath_change_percentage\", DoubleType(), True),\n",
    "    StructField(\"ath_date\", StringType(), True),\n",
    "    StructField(\"atl\", DoubleType(), True),\n",
    "    StructField(\"atl_change_percentage\", DoubleType(), True),\n",
    "    StructField(\"atl_date\", StringType(), True),\n",
    "    StructField(\"roi\", StringType(), True),\n",
    "    StructField(\"last_updated\", StringType(), True),\n",
    "    StructField(\"ingested_at\", StringType(), True)\n",
    "\n",
    "    # Add other fields as needed\n",
    "])\n"
   ]
  },
  {
   "cell_type": "code",
   "execution_count": 0,
   "metadata": {
    "application/vnd.databricks.v1+cell": {
     "cellMetadata": {
      "byteLimit": 2048000,
      "rowLimit": 10000
     },
     "inputWidgets": {},
     "nuid": "7dfd88bc-eb29-4417-bd22-0618442b3c48",
     "showTitle": false,
     "tableResultSettingsMap": {},
     "title": ""
    }
   },
   "outputs": [],
   "source": [
    "\n",
    "from modules.ingestion_functions import *\n",
    "from pyspark.sql.functions import current_timestamp\n",
    "\n",
    "data = get_top_100_coins()\n",
    "\n",
    "spark_df = spark.createDataFrame(data,schema=schema)\n",
    "\n",
    "spark_df = spark_df.withColumn(\"ingested_at\", current_timestamp())\n",
    "\n",
    "spark_df.write.format(\"delta\").mode(\"overwrite\").option(\"mergeSchema\", \"true\").saveAsTable(\"top_100_crypto_snapshot\")\n",
    "\n",
    "\n"
   ]
  }
 ],
 "metadata": {
  "application/vnd.databricks.v1+notebook": {
   "computePreferences": null,
   "dashboards": [],
   "environmentMetadata": {
    "base_environment": "",
    "environment_version": "2"
   },
   "inputWidgetPreferences": null,
   "language": "python",
   "notebookMetadata": {
    "mostRecentlyExecutedCommandWithImplicitDF": {
     "commandId": 8609595639925166,
     "dataframes": [
      "_sqldf"
     ]
    },
    "pythonIndentUnit": 4
   },
   "notebookName": "crypto_snapshot_table",
   "widgets": {}
  },
  "language_info": {
   "name": "python"
  }
 },
 "nbformat": 4,
 "nbformat_minor": 0
}
